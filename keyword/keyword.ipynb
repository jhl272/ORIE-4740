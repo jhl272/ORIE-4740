{
 "cells": [
  {
   "cell_type": "code",
   "execution_count": 64,
   "metadata": {},
   "outputs": [],
   "source": [
    "import pandas as pd\n",
    "import re\n"
   ]
  },
  {
   "cell_type": "code",
   "execution_count": 65,
   "metadata": {},
   "outputs": [],
   "source": [
    "data = pd.read_csv('titles.csv', encoding= 'unicode_escape')"
   ]
  },
  {
   "cell_type": "code",
   "execution_count": 66,
   "metadata": {},
   "outputs": [],
   "source": [
    "def tokenize(text):\n",
    "    \"\"\"Returns a list of words that make up the text.    \n",
    "    Params: {text: String}\n",
    "    Returns: Array\n",
    "    \"\"\"\n",
    "    return [x for x in re.findall(r\"[a-z]+\", text.lower())]"
   ]
  },
  {
   "cell_type": "code",
   "execution_count": 67,
   "metadata": {},
   "outputs": [
    {
     "ename": "AttributeError",
     "evalue": "'DataFrame' object has no attribute 'name'",
     "output_type": "error",
     "traceback": [
      "\u001b[0;31m---------------------------------------------------------------------------\u001b[0m",
      "\u001b[0;31mAttributeError\u001b[0m                            Traceback (most recent call last)",
      "\u001b[0;32m<ipython-input-67-5c35cc1da7df>\u001b[0m in \u001b[0;36m<module>\u001b[0;34m\u001b[0m\n\u001b[1;32m      1\u001b[0m \u001b[0mtoken_dictionary\u001b[0m \u001b[0;34m=\u001b[0m \u001b[0mdict\u001b[0m\u001b[0;34m(\u001b[0m\u001b[0;34m)\u001b[0m\u001b[0;34m\u001b[0m\u001b[0;34m\u001b[0m\u001b[0m\n\u001b[1;32m      2\u001b[0m \u001b[0;34m\u001b[0m\u001b[0m\n\u001b[0;32m----> 3\u001b[0;31m \u001b[0;32mfor\u001b[0m \u001b[0meach_name\u001b[0m \u001b[0;32min\u001b[0m \u001b[0mdata\u001b[0m\u001b[0;34m.\u001b[0m\u001b[0mname\u001b[0m\u001b[0;34m:\u001b[0m\u001b[0;34m\u001b[0m\u001b[0;34m\u001b[0m\u001b[0m\n\u001b[0m\u001b[1;32m      4\u001b[0m     \u001b[0;32mfor\u001b[0m \u001b[0mword\u001b[0m \u001b[0;32min\u001b[0m \u001b[0mtokenize\u001b[0m\u001b[0;34m(\u001b[0m\u001b[0meach_name\u001b[0m\u001b[0;34m)\u001b[0m\u001b[0;34m:\u001b[0m\u001b[0;34m\u001b[0m\u001b[0;34m\u001b[0m\u001b[0m\n\u001b[1;32m      5\u001b[0m         \u001b[0;32mif\u001b[0m \u001b[0mword\u001b[0m \u001b[0;32mnot\u001b[0m \u001b[0;32min\u001b[0m \u001b[0mtoken_dictionary\u001b[0m\u001b[0;34m.\u001b[0m\u001b[0mkeys\u001b[0m\u001b[0;34m(\u001b[0m\u001b[0;34m)\u001b[0m\u001b[0;34m:\u001b[0m\u001b[0;34m\u001b[0m\u001b[0;34m\u001b[0m\u001b[0m\n",
      "\u001b[0;32m~/anaconda3/lib/python3.7/site-packages/pandas/core/generic.py\u001b[0m in \u001b[0;36m__getattr__\u001b[0;34m(self, name)\u001b[0m\n\u001b[1;32m   5065\u001b[0m             \u001b[0;32mif\u001b[0m \u001b[0mself\u001b[0m\u001b[0;34m.\u001b[0m\u001b[0m_info_axis\u001b[0m\u001b[0;34m.\u001b[0m\u001b[0m_can_hold_identifiers_and_holds_name\u001b[0m\u001b[0;34m(\u001b[0m\u001b[0mname\u001b[0m\u001b[0;34m)\u001b[0m\u001b[0;34m:\u001b[0m\u001b[0;34m\u001b[0m\u001b[0;34m\u001b[0m\u001b[0m\n\u001b[1;32m   5066\u001b[0m                 \u001b[0;32mreturn\u001b[0m \u001b[0mself\u001b[0m\u001b[0;34m[\u001b[0m\u001b[0mname\u001b[0m\u001b[0;34m]\u001b[0m\u001b[0;34m\u001b[0m\u001b[0;34m\u001b[0m\u001b[0m\n\u001b[0;32m-> 5067\u001b[0;31m             \u001b[0;32mreturn\u001b[0m \u001b[0mobject\u001b[0m\u001b[0;34m.\u001b[0m\u001b[0m__getattribute__\u001b[0m\u001b[0;34m(\u001b[0m\u001b[0mself\u001b[0m\u001b[0;34m,\u001b[0m \u001b[0mname\u001b[0m\u001b[0;34m)\u001b[0m\u001b[0;34m\u001b[0m\u001b[0;34m\u001b[0m\u001b[0m\n\u001b[0m\u001b[1;32m   5068\u001b[0m \u001b[0;34m\u001b[0m\u001b[0m\n\u001b[1;32m   5069\u001b[0m     \u001b[0;32mdef\u001b[0m \u001b[0m__setattr__\u001b[0m\u001b[0;34m(\u001b[0m\u001b[0mself\u001b[0m\u001b[0;34m,\u001b[0m \u001b[0mname\u001b[0m\u001b[0;34m,\u001b[0m \u001b[0mvalue\u001b[0m\u001b[0;34m)\u001b[0m\u001b[0;34m:\u001b[0m\u001b[0;34m\u001b[0m\u001b[0;34m\u001b[0m\u001b[0m\n",
      "\u001b[0;31mAttributeError\u001b[0m: 'DataFrame' object has no attribute 'name'"
     ]
    }
   ],
   "source": [
    "token_dictionary = dict()\n",
    "\n",
    "for each_name in data.name:\n",
    "    for word in tokenize(each_name):\n",
    "        if word not in token_dictionary.keys():\n",
    "            token_dictionary[word] = 1\n",
    "        if word in token_dictionary.keys():\n",
    "            token_dictionary[word] += 1\n",
    "\n",
    "ranked = sorted(token_dictionary.items() , reverse=True, key=lambda x: x[1])\n",
    "print(ranked)"
   ]
  },
  {
   "cell_type": "code",
   "execution_count": 68,
   "metadata": {},
   "outputs": [],
   "source": [
    "# df_ranked = pd.DataFrame.from_dict(ranked)\n",
    "# df_ranked.to_csv('wordcount.csv')"
   ]
  },
  {
   "cell_type": "code",
   "execution_count": 69,
   "metadata": {},
   "outputs": [],
   "source": [
    "('love', 354)\n",
    "# ('loved', 26)\n",
    "# ('loves', 15)\n",
    "# ('beloved', 6)\n",
    "('loving', 5)\n",
    "# ('lovely', 3)\n",
    "# ('lover', 2)\n",
    "# ('lovers', 2)\n",
    "# ('loveliest', 2)\n",
    "\n",
    "('faithful', 41)\n",
    "('faith', 32)\n",
    "('faithfulness', 8)\n",
    "('faithfull', 2)\n",
    "\n",
    "('hope', 40)\n",
    "\n",
    "love: 415\n",
    "faith: 83\n",
    "hope: 40\n",
    "    \n",
    "total: 538"
   ]
  },
  {
   "cell_type": "code",
   "execution_count": 72,
   "metadata": {},
   "outputs": [
    {
     "data": {
      "text/html": [
       "<div>\n",
       "<style scoped>\n",
       "    .dataframe tbody tr th:only-of-type {\n",
       "        vertical-align: middle;\n",
       "    }\n",
       "\n",
       "    .dataframe tbody tr th {\n",
       "        vertical-align: top;\n",
       "    }\n",
       "\n",
       "    .dataframe thead th {\n",
       "        text-align: right;\n",
       "    }\n",
       "</style>\n",
       "<table border=\"1\" class=\"dataframe\">\n",
       "  <thead>\n",
       "    <tr style=\"text-align: right;\">\n",
       "      <th></th>\n",
       "      <th>Name</th>\n",
       "      <th>Popularity</th>\n",
       "      <th>Faith</th>\n",
       "      <th>Hope</th>\n",
       "      <th>Love</th>\n",
       "    </tr>\n",
       "  </thead>\n",
       "  <tbody>\n",
       "    <tr>\n",
       "      <th>0</th>\n",
       "      <td>You Say</td>\n",
       "      <td>79</td>\n",
       "      <td>0</td>\n",
       "      <td>0</td>\n",
       "      <td>0</td>\n",
       "    </tr>\n",
       "    <tr>\n",
       "      <th>1</th>\n",
       "      <td>Reckless Love</td>\n",
       "      <td>73</td>\n",
       "      <td>0</td>\n",
       "      <td>0</td>\n",
       "      <td>1</td>\n",
       "    </tr>\n",
       "    <tr>\n",
       "      <th>2</th>\n",
       "      <td>Way Maker - Live</td>\n",
       "      <td>73</td>\n",
       "      <td>0</td>\n",
       "      <td>0</td>\n",
       "      <td>0</td>\n",
       "    </tr>\n",
       "    <tr>\n",
       "      <th>3</th>\n",
       "      <td>O Come to the Altar (Live)</td>\n",
       "      <td>71</td>\n",
       "      <td>0</td>\n",
       "      <td>0</td>\n",
       "      <td>0</td>\n",
       "    </tr>\n",
       "    <tr>\n",
       "      <th>4</th>\n",
       "      <td>Rescue</td>\n",
       "      <td>71</td>\n",
       "      <td>0</td>\n",
       "      <td>0</td>\n",
       "      <td>0</td>\n",
       "    </tr>\n",
       "  </tbody>\n",
       "</table>\n",
       "</div>"
      ],
      "text/plain": [
       "                         Name  Popularity  Faith  Hope  Love\n",
       "0                     You Say          79      0     0     0\n",
       "1               Reckless Love          73      0     0     1\n",
       "2            Way Maker - Live          73      0     0     0\n",
       "3  O Come to the Altar (Live)          71      0     0     0\n",
       "4                      Rescue          71      0     0     0"
      ]
     },
     "execution_count": 72,
     "metadata": {},
     "output_type": "execute_result"
    }
   ],
   "source": [
    "new_header = data.iloc[0]\n",
    "df = data[1:]\n",
    "df.columns = new_header\n",
    "# df.head()\n",
    "data.head()"
   ]
  },
  {
   "cell_type": "code",
   "execution_count": 73,
   "metadata": {},
   "outputs": [
    {
     "name": "stdout",
     "output_type": "stream",
     "text": [
      "You Say\n",
      "79\n",
      "0\n",
      "0\n",
      "0\n"
     ]
    }
   ],
   "source": [
    "for each in df:\n",
    "    print(each)\n",
    "#     if \"love\" in each['name']:\n",
    "#         each['love'] = 1\n",
    "#         print(each['name'])"
   ]
  },
  {
   "cell_type": "code",
   "execution_count": 43,
   "metadata": {},
   "outputs": [
    {
     "name": "stdout",
     "output_type": "stream",
     "text": [
      "0                                                 You Say\n",
      "1                                           Reckless Love\n",
      "2                                        Way Maker - Live\n",
      "3                              O Come to the Altar (Live)\n",
      "4                                                  Rescue\n",
      "5                            Oceans (Where Feet May Fail)\n",
      "6                                             Do It Again\n",
      "7                               Raise a Hallelujah (Live)\n",
      "8                                              Yes I Will\n",
      "9                                             Dear No One\n",
      "10                                          Build My Life\n",
      "11                              So Will I (100 Billion X)\n",
      "12                                       Good Good Father\n",
      "13                                         Tremble - Live\n",
      "14                              I Was Made For Loving You\n",
      "15                            Nobody (feat. Matthew West)\n",
      "16                                          Look Up Child\n",
      "17                                King of My Heart (Live)\n",
      "18                                                  Known\n",
      "19                                             Here Again\n",
      "20                                           Trust In You\n",
      "21                                 Goodness of God (Live)\n",
      "22                  No Longer Slaves (Spontaneous) [Live]\n",
      "23                                      It Is Well (Live)\n",
      "24                                           Paper Hearts\n",
      "25                                  Peace Be Still - Live\n",
      "26                                    Glorious Day - Live\n",
      "27                                   How Great Is Our God\n",
      "28                                                Our God\n",
      "29                                       Who You Say I Am\n",
      "                              ...                        \n",
      "7512                    Carry Me/Restless (Medley) - Live\n",
      "7513                              You Are Faithful - Live\n",
      "7514                                   Your Melody - Live\n",
      "7515                                          3 Psalm 100\n",
      "7516                                                 Acts\n",
      "7517                                         Lamentations\n",
      "7518                                         Introduction\n",
      "7519                                              Closing\n",
      "7520    The Same Song - Bonus Track/ Counting Stars Al...\n",
      "7521                            The Saving One - Acoustic\n",
      "7522                                               Linear\n",
      "7523                           Why I Make Christian Music\n",
      "7524                                              Sellout\n",
      "7525                                    Love Has No Walls\n",
      "7526                                            Mr. James\n",
      "7527                                   Open Wide My Heart\n",
      "7528                                                Stand\n",
      "7529                                   Heart Of Every Man\n",
      "7530                                   Forever And Beyond\n",
      "7531                                        Just Like You\n",
      "7532                                   Christmas Greeting\n",
      "7533                               Joy To The World Intro\n",
      "7534                                       Isaiah 53: 4-5\n",
      "7535                                        Matthew 1: 23\n",
      "7536                        Give You Glory - Live From LA\n",
      "7537                                       Talking - Live\n",
      "7538                         All I Need - Japan Exclusive\n",
      "7539                       Stronger Than We Think (Remix)\n",
      "7540       Que Tu Corazãn Vuelva A Latir (Tropical Remix)\n",
      "7541               La Esperanza Frente A Mi (Salsa Remix)\n",
      "Name: name, Length: 7542, dtype: object\n"
     ]
    }
   ],
   "source": [
    "data.head()\n",
    "print(data['name'])"
   ]
  },
  {
   "cell_type": "code",
   "execution_count": null,
   "metadata": {},
   "outputs": [],
   "source": []
  }
 ],
 "metadata": {
  "kernelspec": {
   "display_name": "Python 3",
   "language": "python",
   "name": "python3"
  },
  "language_info": {
   "codemirror_mode": {
    "name": "ipython",
    "version": 3
   },
   "file_extension": ".py",
   "mimetype": "text/x-python",
   "name": "python",
   "nbconvert_exporter": "python",
   "pygments_lexer": "ipython3",
   "version": "3.7.3"
  }
 },
 "nbformat": 4,
 "nbformat_minor": 2
}
